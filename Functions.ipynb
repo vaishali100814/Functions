{
  "nbformat": 4,
  "nbformat_minor": 0,
  "metadata": {
    "colab": {
      "provenance": []
    },
    "kernelspec": {
      "name": "python3",
      "display_name": "Python 3"
    },
    "language_info": {
      "name": "python"
    }
  },
  "cells": [
    {
      "cell_type": "markdown",
      "source": [
        "# Functions"
      ],
      "metadata": {
        "id": "JPzQL56ySE2s"
      }
    },
    {
      "cell_type": "markdown",
      "source": [
        "1. What is the difference between a function and a method in Python?\n",
        "  - A function is a reusable block of code that performs a specific task. A method, on the other hand, is a function that is associated with an object or class, meaning it operates on or accesses the object's data or attributes. While both can take arguments and return values, methods are inherently tied to the object-oriented paradigm.\n",
        "\n",
        "  For Example:\n",
        "  Function:-\n",
        "def add(x, y):\n",
        "    return x + y\n",
        "\n",
        "Method:-\n",
        "class Dog:\n",
        "    def __init__(self, name):\n",
        "        self.name = name\n",
        "\n",
        "        def bark(self):\n",
        "        print(\"Woof! My name is\", self.name)\n",
        "2. Explain the concept of function arguments and parameters in Python?\n",
        "  - In Python, functions can accept inputs, which are handled through parameters and arguments. Parameters are variables defined in the function's definition, while arguments are the actual values passed to the function when it is called.\n",
        "  Example:-\n",
        "  def add(num1, num2): # num1 and num2 are parameters\n",
        "    sum = num1 + num2\n",
        "    return sum\n",
        "\n",
        "result = add(5, 3) # 5 and 3 are arguments\n",
        "print(result)\n",
        "3. What are the different ways to define and call a function in Python?\n",
        "  - In Python, functions can be defined and called in several ways:\n",
        " Standard Function Definition\n",
        "Uses the def keyword, followed by the function name, parentheses for parameters, and a colon. The function body is indented.\n",
        "\n",
        "def greet(name):\n",
        "    \"\"\"This function greets the person passed in as a parameter.\"\"\"\n",
        "    print(f\"Hello, {name}!\")\n",
        "\n",
        "greet(\"World\") # Calling the function\n",
        "\n",
        "Lambda Functions\n",
        "Anonymous, small, single-expression functions defined using the lambda keyword.\n",
        "add = lambda x, y: x + y\n",
        "print(add(5, 3)) # Calling the lambda function\n",
        "\n",
        "Nested Functions\n",
        "Defining a function inside another function. The inner function can access the outer function's variables.\n",
        "def outer_function(text):\n",
        "    def inner_function():\n",
        "        print(text)\n",
        "    inner_function()\n",
        "\n",
        "outer_function(\"Hello from inner function!\")\n",
        "4. What is the purpose of the `return` statement in a Python function?\n",
        "  - The return statement in a Python function serves to terminate the function's execution and optionally provide a value back to the caller. When a return statement is encountered, the function immediately stops running, and the specified value, if any, is passed back as the result of the function call. If no value is explicitly specified, return defaults to returning None.\n",
        "\n",
        "  Example:\n",
        "  def add(x, y):\n",
        "    return x + y\n",
        "\n",
        "result = add(5, 3)\n",
        "print(result)\n",
        "5. What are iterators in Python and how do they differ from iterables?\n",
        "  - An Iterable is basically an object that any user can iterate over. An Iterator is also an object that helps a user in iterating over another object (that is iterable).\n",
        "\n",
        "  Example:\n",
        "  my_list = [1, 2, 3]\n",
        "my_iter = iter(my_list)\n",
        "\n",
        "print(next(my_iter))\n",
        "print(next(my_iter))\n",
        "print(next(my_iter))\n",
        "\n",
        " print(next(my_iter))  Raises StopIteration\n",
        "6. Explain the concept of generators in Python and how they are defined.\n",
        "  - In Python, a generator is a function that returns an iterator that produces a sequence of values when iterated over.Generators are useful when we want to produce a large sequence of values, but we don't want to store all of them in memory at once.\n",
        "  \n",
        "  Example:\n",
        "  def generator_name(arg):\n",
        "    statements\n",
        "    yield something\n",
        "7. What are the advantages of using generators over regular functions?    \n",
        "  - Generators offer several advantages over regular functions, primarily related to memory efficiency and lazy evaluation. Unlike regular functions that return a complete result set, generators produce values one at a time, allowing for efficient handling of large datasets or infinite sequences without exhausting memory. This \"lazy evaluation\" means processing only the data needed at the moment, and resuming from where the generator left off when called again.\n",
        "\n",
        "  Example:\n",
        "  def generator_function(n):\n",
        "    for i in range(n):\n",
        "        yield i * 2\n",
        "8. What is a lambda function in Python and when is it typically used?\n",
        "  - In Python, a lambda function, also known as an anonymous function, is a concise way to define a function within a single line. It's primarily used for short, simple operations where a full function definition using def would be overly verbose.\n",
        "\n",
        "  Example:\n",
        "  numbers = [1, 2, 3, 4, 5]\n",
        "squared_numbers = list(map(lambda x: x**2, numbers))\n",
        "print(squared_numbers)\n",
        "9. Explain the purpose and usage of the `map()` function in Python.        \n",
        "  - The map() function in Python serves to apply a given function to each item of an iterable (like a list or tuple) and returns an iterator that yields the results. This approach avoids explicit loops, leading to more concise and readable code.\n",
        "  \n",
        "  Example:\n",
        "  map(function, iterable, ...)\n",
        "10. What is the difference between `map()`, `reduce()`, and `filter()` functions in Python?\n",
        "  - map(), filter(), and reduce() are built-in functions in Python that operate on iterables (like lists, tuples, etc.) and are often used in functional programming. Each function serves a distinct purpose.\n",
        "\n",
        "  map(): Applies a given function to each item in an iterable and returns an iterator that yields the results. It transforms each element individually.\n",
        "  def square(x):\n",
        "        return x * x\n",
        "    \n",
        "    numbers = [1, 2, 3, 4, 5]\n",
        "    squared_numbers = map(square, numbers)\n",
        "    print(list(squared_numbers))  \n",
        "  filter(): Creates a new iterator that filters elements from an iterable based on a given function (predicate). It returns only the elements for which the function returns True.\n",
        "\n",
        "  def is_even(x):\n",
        "        return x % 2 == 0\n",
        "    \n",
        "    numbers = [1, 2, 3, 4, 5, 6]\n",
        "    even_numbers = filter(is_even, numbers)\n",
        "    print(list(even_numbers))\n",
        "  reduce(): Applies a function cumulatively to the items of an iterable, from left to right, to reduce the iterable to a single value.\n",
        "\n",
        "  from functools import reduce\n",
        "    \n",
        "    def multiply(x, y):\n",
        "        return x * y\n",
        "    \n",
        "    numbers = [1, 2, 3, 4, 5]\n",
        "    product = reduce(multiply, numbers)\n",
        "    print(product)\n",
        "11. Using pen & Paper write the internal mechanism for sum operation using  reduce function on this given\n",
        "list:[47,11,42,13];\n",
        "  - The reduce function in Python iteratively applies a given function to the elements of a list, accumulating a single result. For the list [47, 11, 42, 13] and the sum operation, the reduce function would calculate the sum as follows:\n",
        "It starts by applying the sum function to the first two elements (47 and 11), resulting in 58.\n",
        "Then, it applies the sum function to the result (58) and the next element (42), resulting in 100.\n",
        "Finally, it applies the sum function to the result (100) and the last element (13), resulting in the final sum of 113.       \n",
        "\n",
        "Example:\n",
        "from functools import reduce\n",
        "numbers = [47, 11, 42, 13]\n",
        "sum_result = reduce(lambda x, y: x + y, numbers)\n",
        "print(sum_result)\n",
        "\n",
        "\n",
        "      "
      ],
      "metadata": {
        "id": "zUX5veI7SlES"
      }
    },
    {
      "cell_type": "code",
      "source": [
        "# Write a Python function that takes a list of numbers as input and returns the sum of all even numbers in the list.\n",
        "\n",
        "print(sum(x for x in map(int, input(\"list of numbers: \").split()) if x % 2 == 0))\n"
      ],
      "metadata": {
        "colab": {
          "base_uri": "https://localhost:8080/"
        },
        "id": "rHp6stI3Ts6m",
        "outputId": "4a629b9e-9b7c-447c-fefa-b8f3c29f9964"
      },
      "execution_count": null,
      "outputs": [
        {
          "output_type": "stream",
          "name": "stdout",
          "text": [
            "list of numbers: 6 8 3 2\n",
            "16\n"
          ]
        }
      ]
    },
    {
      "cell_type": "code",
      "source": [
        "# Create a Python function that accepts a string and returns the reverse of that string.\n",
        "\n",
        "def reverse_string(s):\n",
        "  \"\"\"\n",
        "  Reverses a string using slicing.\n",
        "\n",
        "  Args:\n",
        "    s: The string to reverse.\n",
        "\n",
        "  Returns:\n",
        "    The reversed string.\n",
        "  \"\"\"\n",
        "  return s[::-1]"
      ],
      "metadata": {
        "id": "tvMgdnvkjFl1"
      },
      "execution_count": null,
      "outputs": []
    },
    {
      "cell_type": "code",
      "source": [
        "#  Implement a Python function that takes a list of integers and returns a new list containing the squares of each number.\n",
        "\n",
        "l = []\n",
        "\n",
        "for i in range(1, 51):\n",
        "    l.append(i * i)\n",
        "\n",
        "print(\"List with square of integers from 1 to 50:\")\n",
        "print(l)"
      ],
      "metadata": {
        "colab": {
          "base_uri": "https://localhost:8080/"
        },
        "id": "xYHk2PlEkYtw",
        "outputId": "fc6bff8e-1c5e-4e4c-c8bd-20d260ebc4ad"
      },
      "execution_count": null,
      "outputs": [
        {
          "output_type": "stream",
          "name": "stdout",
          "text": [
            "List with square of integers from 1 to 50:\n",
            "[1, 4, 9, 16, 25, 36, 49, 64, 81, 100, 121, 144, 169, 196, 225, 256, 289, 324, 361, 400, 441, 484, 529, 576, 625, 676, 729, 784, 841, 900, 961, 1024, 1089, 1156, 1225, 1296, 1369, 1444, 1521, 1600, 1681, 1764, 1849, 1936, 2025, 2116, 2209, 2304, 2401, 2500]\n"
          ]
        }
      ]
    },
    {
      "cell_type": "code",
      "source": [
        "# Write a Python function that checks if a given number is prime or not from 1 to 200.\n",
        "\n",
        "x, y = 2, 7\n",
        "primes = [True] * (y + 1)\n",
        "primes[0], primes[1] = False, False\n",
        "for i in range(2, int(y ** 0.5) + 1):\n",
        "    if primes[i]:\n",
        "        for j in range(i * i, y + 1, i):\n",
        "            primes[j] = False\n",
        "            res = [i for i in range(x, y + 1) if primes[i]]\n",
        "print(res if res else \"No\")"
      ],
      "metadata": {
        "colab": {
          "base_uri": "https://localhost:8080/"
        },
        "id": "I0DbDIxBk_Z6",
        "outputId": "41f61703-0fe0-4cfb-bf07-5860e2a6c207"
      },
      "execution_count": null,
      "outputs": [
        {
          "output_type": "stream",
          "name": "stdout",
          "text": [
            "[2, 3, 5, 7]\n"
          ]
        }
      ]
    },
    {
      "cell_type": "code",
      "source": [
        "# Create an iterator class in Python that generates the Fibonacci sequence up to a specified number of terms.\n",
        "\n",
        "FibArray = [0, 1]\n",
        "\n",
        "def fibonacci(n):\n",
        "    if n<0:\n",
        "        print(\"Incorrect input\")\n",
        "    elif n<= len(FibArray):\n",
        "        return FibArray[n-1]\n",
        "    else:\n",
        "        temp_fib = fibonacci(n-1)+fibonacci(n-2)\n",
        "        FibArray.append(temp_fib)\n",
        "        return temp_fib\n",
        "print(fibonacci(9))"
      ],
      "metadata": {
        "colab": {
          "base_uri": "https://localhost:8080/"
        },
        "id": "4xFe-LdklTJW",
        "outputId": "5f4248b0-b933-4af6-f116-c4c1638795be"
      },
      "execution_count": null,
      "outputs": [
        {
          "output_type": "stream",
          "name": "stdout",
          "text": [
            "21\n"
          ]
        }
      ]
    },
    {
      "cell_type": "code",
      "source": [
        "#  Write a generator function in Python that yields the powers of 2 up to a given exponent.\n",
        "\n",
        "def fun(max):\n",
        "    cnt = 1\n",
        "    while cnt <= max:\n",
        "        yield cnt\n",
        "        cnt += 1\n",
        "\n",
        "ctr = fun(5)\n",
        "for n in ctr:\n",
        "    print(n)"
      ],
      "metadata": {
        "colab": {
          "base_uri": "https://localhost:8080/"
        },
        "id": "eVHZbjZ4mTVJ",
        "outputId": "ad227b21-72e4-4cce-c4b6-cd349a151736"
      },
      "execution_count": null,
      "outputs": [
        {
          "output_type": "stream",
          "name": "stdout",
          "text": [
            "1\n",
            "2\n",
            "3\n",
            "4\n",
            "5\n"
          ]
        }
      ]
    },
    {
      "cell_type": "code",
      "source": [
        "#  Implement a generator function that reads a file line by line and yields each line as a string.\n",
        "\n",
        "L = [\"Geeks\\n\", \"for\\n\", \"Geeks\\n\"]\n",
        "\n",
        "file1 = open('myfile.txt', 'w')\n",
        "file1.writelines(L)\n",
        "file1.close()\n",
        "\n",
        "file1 = open('myfile.txt', 'r')\n",
        "count = 0\n",
        "\n",
        "print(\"Using for loop\")\n",
        "for line in file1:\n",
        "    count += 1\n",
        "    print(\"Line{}: {}\".format(count, line.strip()))\n",
        "\n",
        "file1.close()"
      ],
      "metadata": {
        "colab": {
          "base_uri": "https://localhost:8080/"
        },
        "id": "jHjG3nlfno6f",
        "outputId": "21e8b884-79c7-45f7-e73e-b3de0d803e9f"
      },
      "execution_count": null,
      "outputs": [
        {
          "output_type": "stream",
          "name": "stdout",
          "text": [
            "Using for loop\n",
            "Line1: Geeks\n",
            "Line2: for\n",
            "Line3: Geeks\n"
          ]
        }
      ]
    },
    {
      "cell_type": "code",
      "source": [
        "# Use a lambda function in Python to sort a list of tuples based on the second element of each tuple.\n",
        "\n",
        "a = [(1, 3), (4, 1), (2, 2)]\n",
        "res = sorted(a, key=lambda x: x[1])\n",
        "\n",
        "print(res)"
      ],
      "metadata": {
        "colab": {
          "base_uri": "https://localhost:8080/"
        },
        "id": "TY2gYoVyn9gC",
        "outputId": "7dda37d4-9cba-491d-cace-8990eda827c2"
      },
      "execution_count": null,
      "outputs": [
        {
          "output_type": "stream",
          "name": "stdout",
          "text": [
            "[(4, 1), (2, 2), (1, 3)]\n"
          ]
        }
      ]
    },
    {
      "cell_type": "code",
      "source": [
        "#  Write a Python program that uses `map()` to convert a list of temperatures from Celsius to Fahrenheit.\n",
        "\n",
        "c = 47\n",
        "f = (c * 1.8) + 32\n",
        "\n",
        "print(str(c))\n",
        "print(str(f))"
      ],
      "metadata": {
        "colab": {
          "base_uri": "https://localhost:8080/"
        },
        "id": "uZNbUyBNohul",
        "outputId": "34a706fa-4485-404c-d76e-f98b4ebc5045"
      },
      "execution_count": null,
      "outputs": [
        {
          "output_type": "stream",
          "name": "stdout",
          "text": [
            "47\n",
            "116.60000000000001\n"
          ]
        }
      ]
    },
    {
      "cell_type": "code",
      "source": [
        "# Create a Python program that uses `filter()` to remove all the vowels from a given string.\n",
        "\n",
        "a=list(\"sample\")\n",
        "def vowel(x):\n",
        "    v=('a','e','i','o','u')\n",
        "    return x in v\n",
        "\n",
        "b=list(filter(vowel,a))\n",
        "print(\"Vowels : \",b)\n",
        "print(\"No of Vowels : \",len(b))"
      ],
      "metadata": {
        "colab": {
          "base_uri": "https://localhost:8080/"
        },
        "id": "g96kK9xXozyQ",
        "outputId": "d070bcc9-126d-48b8-f7de-ac0ff2553749"
      },
      "execution_count": null,
      "outputs": [
        {
          "output_type": "stream",
          "name": "stdout",
          "text": [
            "Vowels :  ['a', 'e']\n",
            "No of Vowels :  2\n"
          ]
        }
      ]
    },
    {
      "cell_type": "code",
      "source": [
        "#  Imagine an accounting routine used in a book shop. It works on a list with sublists, which look like this:\n",
        "\n",
        "orders = [\n",
        "    [\"34587\", \"Learning Python, Mark Lutz\", 4, 40.95],\n",
        "    [\"98762\", \"Programming Python, Mark Lutz\", 5, 56.80],\n",
        "    [\"77226\", \"Head First Python, Paul Barry\", 3, 32.95],\n",
        "    [\"88112\", \"Python Cookbook, David Beazley\", 3, 24.99]\n",
        "]\n",
        "\n",
        "result = list(map(lambda x: (x[0], x[2] * x[3] + 10 if x[2] * x[3] < 100 else x[2] * x[3]), orders))\n",
        "\n",
        "print(result)\n",
        "\n",
        "\n",
        "\n"
      ],
      "metadata": {
        "id": "o4JANU5KqrUe",
        "colab": {
          "base_uri": "https://localhost:8080/"
        },
        "outputId": "d723f09c-1824-4c22-897d-1cb834a6a90f"
      },
      "execution_count": 21,
      "outputs": [
        {
          "output_type": "stream",
          "name": "stdout",
          "text": [
            "[('34587', 163.8), ('98762', 284.0), ('77226', 108.85000000000001), ('88112', 84.97)]\n"
          ]
        }
      ]
    }
  ]
}